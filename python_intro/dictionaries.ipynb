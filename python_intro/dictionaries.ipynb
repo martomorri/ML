{
 "cells": [
  {
   "cell_type": "code",
   "execution_count": 18,
   "metadata": {},
   "outputs": [
    {
     "name": "stdout",
     "output_type": "stream",
     "text": [
      "martin\n"
     ]
    }
   ],
   "source": [
    "dict = {\"nombre\":\"martin\"}\n",
    "print(dict[\"nombre\"])"
   ]
  },
  {
   "cell_type": "code",
   "execution_count": 27,
   "metadata": {},
   "outputs": [
    {
     "name": "stdout",
     "output_type": "stream",
     "text": [
      "{'nombre': 'morri'}\n"
     ]
    }
   ],
   "source": [
    "dict[\"nombre\"] = \"morri\"\n",
    "print(dict)"
   ]
  },
  {
   "cell_type": "code",
   "execution_count": 28,
   "metadata": {},
   "outputs": [
    {
     "name": "stdout",
     "output_type": "stream",
     "text": [
      "morri morrison\n"
     ]
    }
   ],
   "source": [
    "nombreyapellido = dict.get(\"nombre\") + \" morrison\"\n",
    "print(nombreyapellido)"
   ]
  },
  {
   "cell_type": "code",
   "execution_count": 29,
   "metadata": {},
   "outputs": [
    {
     "name": "stdout",
     "output_type": "stream",
     "text": [
      "{'nombre': 'morri', 'edad': 17}\n"
     ]
    }
   ],
   "source": [
    "dict.update({\"edad\":17})\n",
    "print(dict)"
   ]
  },
  {
   "cell_type": "code",
   "execution_count": 30,
   "metadata": {},
   "outputs": [
    {
     "name": "stdout",
     "output_type": "stream",
     "text": [
      "{'nombre': 'morri'}\n"
     ]
    }
   ],
   "source": [
    "del dict[\"edad\"]\n",
    "print(dict)"
   ]
  },
  {
   "cell_type": "code",
   "execution_count": 31,
   "metadata": {},
   "outputs": [
    {
     "name": "stdout",
     "output_type": "stream",
     "text": [
      "martin: 17\n",
      "luciano: 15\n",
      "tomy: 24\n"
     ]
    }
   ],
   "source": [
    "dict1 = {\"martin\": 17, \"luciano\": 15, \"tomy\": 24}\n",
    "brothers = list(dict1.keys())\n",
    "for b in brothers:\n",
    "    print(\": \".join((b, str(dict1[b]))))"
   ]
  }
 ],
 "metadata": {
  "kernelspec": {
   "display_name": "Python 3",
   "language": "python",
   "name": "python3"
  },
  "language_info": {
   "codemirror_mode": {
    "name": "ipython",
    "version": 3
   },
   "file_extension": ".py",
   "mimetype": "text/x-python",
   "name": "python",
   "nbconvert_exporter": "python",
   "pygments_lexer": "ipython3",
   "version": "3.11.3"
  },
  "orig_nbformat": 4
 },
 "nbformat": 4,
 "nbformat_minor": 2
}
